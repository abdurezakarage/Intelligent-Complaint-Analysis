{
 "cells": [
  {
   "cell_type": "code",
   "execution_count": 1,
   "id": "3c993487",
   "metadata": {},
   "outputs": [],
   "source": [
    "import os\n",
    "import sys\n",
    "notebook_dir = os.getcwd()\n",
    "parent_dir = os.path.dirname(notebook_dir)\n",
    "sys.path.append(parent_dir)"
   ]
  },
  {
   "cell_type": "code",
   "execution_count": 2,
   "id": "5f240a50",
   "metadata": {},
   "outputs": [
    {
     "name": "stderr",
     "output_type": "stream",
     "text": [
      "c:\\Users\\op\\AppData\\Local\\Programs\\Python\\Python313\\Lib\\site-packages\\tqdm\\auto.py:21: TqdmWarning: IProgress not found. Please update jupyter and ipywidgets. See https://ipywidgets.readthedocs.io/en/stable/user_install.html\n",
      "  from .autonotebook import tqdm as notebook_tqdm\n"
     ]
    }
   ],
   "source": [
    "from src.rag_pipline import RAGPipeline"
   ]
  },
  {
   "cell_type": "code",
   "execution_count": 3,
   "id": "afc9a764",
   "metadata": {},
   "outputs": [],
   "source": [
    "vectorstore_path=\"../chroma/chroma_db\"\n",
    "  "
   ]
  },
  {
   "cell_type": "code",
   "execution_count": null,
   "id": "2437fc4b",
   "metadata": {},
   "outputs": [
    {
     "name": "stderr",
     "output_type": "stream",
     "text": [
      "e:\\AI\\Week-6\\Week-6 Project\\Intelligent-Complaint-Analysis\\src\\rag_pipline.py:17: LangChainDeprecationWarning: The class `HuggingFaceEmbeddings` was deprecated in LangChain 0.2.2 and will be removed in 1.0. An updated version of the class exists in the :class:`~langchain-huggingface package and should be used instead. To use it run `pip install -U :class:`~langchain-huggingface` and import as `from :class:`~langchain_huggingface import HuggingFaceEmbeddings``.\n",
      "  self.embedding_model = HuggingFaceEmbeddings(\n",
      "e:\\AI\\Week-6\\Week-6 Project\\Intelligent-Complaint-Analysis\\src\\rag_pipline.py:21: LangChainDeprecationWarning: The class `Chroma` was deprecated in LangChain 0.2.9 and will be removed in 1.0. An updated version of the class exists in the :class:`~langchain-chroma package and should be used instead. To use it run `pip install -U :class:`~langchain-chroma` and import as `from :class:`~langchain_chroma import Chroma``.\n",
      "  self.vectorstore = Chroma(\n",
      "c:\\Users\\op\\AppData\\Local\\Programs\\Python\\Python313\\Lib\\site-packages\\huggingface_hub\\file_download.py:143: UserWarning: `huggingface_hub` cache-system uses symlinks by default to efficiently store duplicated files but your machine does not support them in C:\\Users\\op\\.cache\\huggingface\\hub\\models--google--flan-t5-base. Caching files will still work but in a degraded version that might require more space on your disk. This warning can be disabled by setting the `HF_HUB_DISABLE_SYMLINKS_WARNING` environment variable. For more details, see https://huggingface.co/docs/huggingface_hub/how-to-cache#limitations.\n",
      "To support symlinks on Windows, you either need to activate Developer Mode or to run Python as an administrator. In order to activate developer mode, see this article: https://docs.microsoft.com/en-us/windows/apps/get-started/enable-your-device-for-development\n",
      "  warnings.warn(message)\n",
      "Xet Storage is enabled for this repo, but the 'hf_xet' package is not installed. Falling back to regular HTTP download. For better performance, install the package with: `pip install huggingface_hub[hf_xet]` or `pip install hf_xet`\n"
     ]
    }
   ],
   "source": [
    "rag = RAGPipeline(vectorstore_path=vectorstore_path)"
   ]
  },
  {
   "cell_type": "code",
   "execution_count": null,
   "id": "c0a80789",
   "metadata": {},
   "outputs": [],
   "source": [
    "# Call the retrieve method\n",
    "query = \"What are the common issues customers report with credit card billing?\"\n",
    "retrieved_chunks = rag.retrieve(query)\n",
    "\n",
    "print(\"🔍 Retrieved Chunks:\")\n",
    "for i, chunk in enumerate(retrieved_chunks):\n",
    "    print(f\"{i+1}. {chunk}\\n\")"
   ]
  },
  {
   "cell_type": "code",
   "execution_count": null,
   "id": "33c3f380",
   "metadata": {},
   "outputs": [],
   "source": [
    "# Build the prompt using the retrieved chunks\n",
    "prompt = rag.build_prompt(retrieved_chunks, query)\n",
    "\n",
    "print(\"🧠 Constructed Prompt:\\n\")\n",
    "print(prompt)"
   ]
  },
  {
   "cell_type": "code",
   "execution_count": null,
   "id": "de790fa8",
   "metadata": {},
   "outputs": [],
   "source": [
    "# Generate final answer from the LLM\n",
    "answer, sources = rag.generate_answer(query)\n",
    "\n",
    "print(\"🟢 Final Answer:\\n\", answer)\n",
    "print(\"\\n📚 Retrieved Sources Used:\\n\", sources)"
   ]
  }
 ],
 "metadata": {
  "kernelspec": {
   "display_name": "Python 3",
   "language": "python",
   "name": "python3"
  },
  "language_info": {
   "codemirror_mode": {
    "name": "ipython",
    "version": 3
   },
   "file_extension": ".py",
   "mimetype": "text/x-python",
   "name": "python",
   "nbconvert_exporter": "python",
   "pygments_lexer": "ipython3",
   "version": "3.13.3"
  }
 },
 "nbformat": 4,
 "nbformat_minor": 5
}
