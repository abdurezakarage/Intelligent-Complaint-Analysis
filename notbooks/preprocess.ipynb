{
  "cells": [
    {
      "cell_type": "code",
      "execution_count": null,
      "metadata": {},
      "outputs": [],
      "source": [
        "import sys\n",
        "import os\n",
        "sys.path.append(\"../src\")\n",
        "from preprocessing import Preprocessor"
      ]
    },
    {
      "cell_type": "code",
      "execution_count": null,
      "metadata": {
        "id": "iQXa1WF8AGKe"
      },
      "outputs": [],
      "source": [
        "input_path = \"../data/complaints.csv\"\n",
        "output_path = \"../data/filtered_complaints.csv\""
      ]
    },
    {
      "cell_type": "code",
      "execution_count": 4,
      "metadata": {
        "id": "st9zRv61Ac54"
      },
      "outputs": [],
      "source": [
        "processor = Preprocessor(input_path=input_path, output_path=output_path)\n"
      ]
    },
    {
      "cell_type": "code",
      "execution_count": 5,
      "metadata": {
        "colab": {
          "base_uri": "https://localhost:8080/"
        },
        "id": "YfIR7vQVAh89",
        "outputId": "28527391-9520-4998-9c76-a03e0956b5ba"
      },
      "outputs": [
        {
          "name": "stderr",
          "output_type": "stream",
          "text": [
            "/tmp/ipython-input-3-980317842.py:23: DtypeWarning: Columns (16) have mixed types. Specify dtype option on import or set low_memory=False.\n",
            "  self.df = pd.read_csv(self.input_path)\n"
          ]
        },
        {
          "name": "stdout",
          "output_type": "stream",
          "text": [
            "Data loaded: 9609797 records\n"
          ]
        }
      ],
      "source": [
        "processor.load_data()"
      ]
    },
    {
      "cell_type": "code",
      "execution_count": 6,
      "metadata": {
        "colab": {
          "base_uri": "https://localhost:8080/"
        },
        "id": "HG4nJMHQBtkZ",
        "outputId": "56b33488-593d-4251-e9ec-853db10981b8"
      },
      "outputs": [
        {
          "data": {
            "text/plain": [
              "Index(['Date received', 'Product', 'Sub-product', 'Issue', 'Sub-issue',\n",
              "       'Consumer complaint narrative', 'Company public response', 'Company',\n",
              "       'State', 'ZIP code', 'Tags', 'Consumer consent provided?',\n",
              "       'Submitted via', 'Date sent to company', 'Company response to consumer',\n",
              "       'Timely response?', 'Consumer disputed?', 'Complaint ID'],\n",
              "      dtype='object')"
            ]
          },
          "execution_count": 6,
          "metadata": {},
          "output_type": "execute_result"
        }
      ],
      "source": [
        "processor.df.columns"
      ]
    },
    {
      "cell_type": "code",
      "execution_count": 7,
      "metadata": {
        "colab": {
          "base_uri": "https://localhost:8080/"
        },
        "id": "Dw6TAgphBH5w",
        "outputId": "615e7f42-6d79-4417-80c8-5a038942882b"
      },
      "outputs": [
        {
          "name": "stdout",
          "output_type": "stream",
          "text": [
            "\n",
            "=== Basic Info ===\n",
            "<class 'pandas.core.frame.DataFrame'>\n",
            "RangeIndex: 9609797 entries, 0 to 9609796\n",
            "Data columns (total 18 columns):\n",
            " #   Column                        Dtype \n",
            "---  ------                        ----- \n",
            " 0   Date received                 object\n",
            " 1   Product                       object\n",
            " 2   Sub-product                   object\n",
            " 3   Issue                         object\n",
            " 4   Sub-issue                     object\n",
            " 5   Consumer complaint narrative  object\n",
            " 6   Company public response       object\n",
            " 7   Company                       object\n",
            " 8   State                         object\n",
            " 9   ZIP code                      object\n",
            " 10  Tags                          object\n",
            " 11  Consumer consent provided?    object\n",
            " 12  Submitted via                 object\n",
            " 13  Date sent to company          object\n",
            " 14  Company response to consumer  object\n",
            " 15  Timely response?              object\n",
            " 16  Consumer disputed?            object\n",
            " 17  Complaint ID                  int64 \n",
            "dtypes: int64(1), object(17)\n",
            "memory usage: 1.3+ GB\n",
            "None\n",
            "\n",
            "=== Missing Values ===\n",
            "Date received                         0\n",
            "Product                               0\n",
            "Sub-product                      235295\n",
            "Issue                                 6\n",
            "Sub-issue                        839522\n",
            "Consumer complaint narrative    6629041\n",
            "Company public response         4770207\n",
            "Company                               0\n",
            "State                             54516\n",
            "ZIP code                          30228\n",
            "Tags                            8981029\n",
            "Consumer consent provided?      1649561\n",
            "Submitted via                         0\n",
            "Date sent to company                  0\n",
            "Company response to consumer         20\n",
            "Timely response?                      0\n",
            "Consumer disputed?              8841498\n",
            "Complaint ID                          0\n",
            "dtype: int64\n",
            "\n",
            "=== Top Products ===\n",
            "Product\n",
            "Credit reporting or other personal consumer reports                             4834855\n",
            "Credit reporting, credit repair services, or other personal consumer reports    2163857\n",
            "Debt collection                                                                  799197\n",
            "Mortgage                                                                         422254\n",
            "Checking or savings account                                                      291178\n",
            "Credit card                                                                      226686\n",
            "Credit card or prepaid card                                                      206369\n",
            "Money transfer, virtual currency, or money service                               145066\n",
            "Credit reporting                                                                 140429\n",
            "Student loan                                                                     109717\n",
            "Bank account or service                                                           86205\n",
            "Vehicle loan or lease                                                             72957\n",
            "Consumer Loan                                                                     31574\n",
            "Payday loan, title loan, or personal loan                                         30641\n",
            "Payday loan, title loan, personal loan, or advance loan                           16514\n",
            "Prepaid card                                                                      15280\n",
            "Payday loan                                                                        5541\n",
            "Money transfers                                                                    5354\n",
            "Debt or credit management                                                          5047\n",
            "Other financial service                                                            1058\n",
            "Virtual currency                                                                     18\n",
            "Name: count, dtype: int64\n"
          ]
        }
      ],
      "source": [
        "processor.explore_data()"
      ]
    },
    {
      "cell_type": "code",
      "execution_count": 8,
      "metadata": {
        "colab": {
          "base_uri": "https://localhost:8080/"
        },
        "id": "Wohc_qqJBP36",
        "outputId": "145d1bfe-b8cb-48f0-81b0-ff3061e6379b"
      },
      "outputs": [
        {
          "name": "stdout",
          "output_type": "stream",
          "text": [
            "Generating product distribution bar chart...\n",
            "Generating complaint narrative length histogram...\n"
          ]
        }
      ],
      "source": [
        "processor.visualize_distributions()"
      ]
    },
    {
      "cell_type": "code",
      "execution_count": 10,
      "metadata": {
        "colab": {
          "base_uri": "https://localhost:8080/"
        },
        "id": "efr3PC5rBbYM",
        "outputId": "861fc9f9-257f-4d5f-92e5-b93d5f08c9f3"
      },
      "outputs": [
        {
          "name": "stdout",
          "output_type": "stream",
          "text": [
            "Filtering data for relevant products and non-empty narratives...\n",
            "Remaining records after filtering: 80667\n",
            "Cleaning text narratives...\n"
          ]
        }
      ],
      "source": [
        "processor.filter_and_clean_data()"
      ]
    },
    {
      "cell_type": "code",
      "execution_count": 11,
      "metadata": {
        "colab": {
          "base_uri": "https://localhost:8080/"
        },
        "id": "4GbfnT1zSUZ_",
        "outputId": "9a25a259-9cf9-4432-f57d-c15e8f352afb"
      },
      "outputs": [
        {
          "name": "stdout",
          "output_type": "stream",
          "text": [
            "\n",
            "=== Filtered Data Head ===\n",
            "      Date received      Product                                 Sub-product  \\\n",
            "12237    2025-06-13  Credit card                           Store credit card   \n",
            "13280    2025-06-12  Credit card  General-purpose credit card or charge card   \n",
            "13506    2025-06-12  Credit card  General-purpose credit card or charge card   \n",
            "13955    2025-06-09  Credit card  General-purpose credit card or charge card   \n",
            "14249    2025-06-09  Credit card  General-purpose credit card or charge card   \n",
            "\n",
            "                                                 Issue  \\\n",
            "12237                            Getting a credit card   \n",
            "13280               Other features, terms, or problems   \n",
            "13506             Incorrect information on your report   \n",
            "13955  Problem with a purchase shown on your statement   \n",
            "14249                     Problem when making payments   \n",
            "\n",
            "                                               Sub-issue  \\\n",
            "12237        Card opened without my consent or knowledge   \n",
            "13280                                      Other problem   \n",
            "13506                      Account information incorrect   \n",
            "13955  Credit card company isn't resolving a dispute ...   \n",
            "14249                     Problem during payment process   \n",
            "\n",
            "                            Consumer complaint narrative  \\\n",
            "12237  A XXXX XXXX card was opened under my name by a...   \n",
            "13280  Dear CFPB, I have a secured credit card with c...   \n",
            "13506  I have a Citi rewards cards. The credit balanc...   \n",
            "13955  b'I am writing to dispute the following charge...   \n",
            "14249  Although the account had been deemed closed, I...   \n",
            "\n",
            "                                 Company public response  \\\n",
            "12237  Company has responded to the consumer and the ...   \n",
            "13280  Company has responded to the consumer and the ...   \n",
            "13506  Company has responded to the consumer and the ...   \n",
            "13955  Company has responded to the consumer and the ...   \n",
            "14249  Company believes it acted appropriately as aut...   \n",
            "\n",
            "                               Company State ZIP code            Tags  \\\n",
            "12237                   CITIBANK, N.A.    TX    78230   Servicemember   \n",
            "13280                   CITIBANK, N.A.    NY    11220             NaN   \n",
            "13506                   CITIBANK, N.A.    IL    60067             NaN   \n",
            "13955                   CITIBANK, N.A.    TX    78413  Older American   \n",
            "14249  Atlanticus Services Corporation    NY    11212  Older American   \n",
            "\n",
            "      Consumer consent provided? Submitted via Date sent to company  \\\n",
            "12237           Consent provided           Web           2025-06-13   \n",
            "13280           Consent provided           Web           2025-06-13   \n",
            "13506           Consent provided           Web           2025-06-12   \n",
            "13955           Consent provided           Web           2025-06-09   \n",
            "14249           Consent provided           Web           2025-06-09   \n",
            "\n",
            "          Company response to consumer Timely response? Consumer disputed?  \\\n",
            "12237  Closed with non-monetary relief              Yes                NaN   \n",
            "13280      Closed with monetary relief              Yes                NaN   \n",
            "13506          Closed with explanation              Yes                NaN   \n",
            "13955      Closed with monetary relief              Yes                NaN   \n",
            "14249      Closed with monetary relief              Yes                NaN   \n",
            "\n",
            "       Complaint ID  narrative_length  \\\n",
            "12237      14069121                91   \n",
            "13280      14047085               156   \n",
            "13506      14040217               233   \n",
            "13955      13968411               454   \n",
            "14249      13965746               170   \n",
            "\n",
            "                                       cleaned_narrative  \n",
            "12237  a xxxx xxxx card was opened under my name by a...  \n",
            "13280  dear cfpb i have a secured credit card with ci...  \n",
            "13506  i have a citi rewards cards the credit balance...  \n",
            "13955  bi am writing to dispute the following charges...  \n",
            "14249  although the account had been deemed closed i ...  \n",
            "\n",
            "=== Filtered Data Describe ===\n",
            "       Complaint ID  narrative_length\n",
            "count  8.066700e+04      80667.000000\n",
            "mean   7.895166e+06        199.791674\n",
            "std    3.633864e+06        223.183087\n",
            "min    1.290323e+06          2.000000\n",
            "25%    7.510715e+06         63.000000\n",
            "50%    8.626261e+06        141.000000\n",
            "75%    1.050976e+07        260.000000\n",
            "max    1.407782e+07       6469.000000\n",
            "\n",
            "=== Missing Values in Filtered Data ===\n",
            "Date received                       0\n",
            "Product                             0\n",
            "Sub-product                     18837\n",
            "Issue                               0\n",
            "Sub-issue                       18897\n",
            "Consumer complaint narrative        0\n",
            "Company public response         41445\n",
            "Company                             0\n",
            "State                             255\n",
            "ZIP code                            0\n",
            "Tags                            66028\n",
            "Consumer consent provided?          0\n",
            "Submitted via                       0\n",
            "Date sent to company                0\n",
            "Company response to consumer        0\n",
            "Timely response?                    0\n",
            "Consumer disputed?              61830\n",
            "Complaint ID                        0\n",
            "narrative_length                    0\n",
            "cleaned_narrative                   0\n",
            "dtype: int64\n",
            "\n",
            "=== Relevant Product Counts in Filtered Data ===\n",
            "Product\n",
            "Credit card    80667\n",
            "Name: count, dtype: int64\n",
            "\n",
            "=== Sample of Cleaned Narratives ===\n",
            "12237    a xxxx xxxx card was opened under my name by a...\n",
            "13280    dear cfpb i have a secured credit card with ci...\n",
            "13506    i have a citi rewards cards the credit balance...\n",
            "13955    bi am writing to dispute the following charges...\n",
            "14249    although the account had been deemed closed i ...\n",
            "Name: cleaned_narrative, dtype: object\n"
          ]
        }
      ],
      "source": [
        "\n",
        "print(\"\\n=== Filtered Data Head ===\")\n",
        "print(processor.filtered_df.head())\n",
        "\n",
        "print(\"\\n=== Filtered Data Describe ===\")\n",
        "print(processor.filtered_df.describe())\n",
        "\n",
        "print(\"\\n=== Missing Values in Filtered Data ===\")\n",
        "print(processor.filtered_df.isnull().sum())\n",
        "\n",
        "print(\"\\n=== Relevant Product Counts in Filtered Data ===\")\n",
        "print(processor.filtered_df['Product'].value_counts())\n",
        "\n",
        "print(\"\\n=== Sample of Cleaned Narratives ===\")\n",
        "print(processor.filtered_df['cleaned_narrative'].head())"
      ]
    },
    {
      "cell_type": "code",
      "execution_count": null,
      "metadata": {
        "id": "S8u5xBX2Szn2"
      },
      "outputs": [],
      "source": [
        "\n",
        "processor.save_cleaned_data()"
      ]
    }
  ],
  "metadata": {
    "colab": {
      "provenance": []
    },
    "kernelspec": {
      "display_name": "Python 3",
      "name": "python3"
    },
    "language_info": {
      "name": "python"
    }
  },
  "nbformat": 4,
  "nbformat_minor": 0
}
