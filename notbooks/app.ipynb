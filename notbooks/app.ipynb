{
  "cells": [
    {
      "cell_type": "code",
      "execution_count": 1,
      "metadata": {
        "id": "-xTO6eb6KL97"
      },
      "outputs": [],
      "source": [
        "import gradio as gr\n",
        "import os\n",
        "import sys\n",
        "# Add parent directory to path for notebook compatibility\n",
        "notebook_dir = os.getcwd()\n",
        "parent_dir = os.path.dirname(notebook_dir)\n",
        "sys.path.append(parent_dir)"
      ]
    },
    {
      "cell_type": "code",
      "execution_count": null,
      "metadata": {},
      "outputs": [],
      "source": [
        "from src.rag_pipline import RAGPipeline"
      ]
    },
    {
      "cell_type": "code",
      "execution_count": 17,
      "metadata": {
        "colab": {
          "base_uri": "https://localhost:8080/",
          "height": 680
        },
        "id": "FUyl9mUSN10Q",
        "outputId": "585288e2-5c3f-4c2f-a590-810a9fd9ad1a"
      },
      "outputs": [
        {
          "name": "stderr",
          "output_type": "stream",
          "text": [
            "/tmp/ipython-input-17-685226458.py:38: UserWarning: You have not specified a value for the `type` parameter. Defaulting to the 'tuples' format for chatbot messages, but this is deprecated and will be removed in a future version of Gradio. Please set type='messages' instead, which uses openai-style dictionaries with 'role' and 'content' keys.\n",
            "  chatbot = gr.Chatbot(label=\"Conversation History\", height=400)\n"
          ]
        },
        {
          "name": "stdout",
          "output_type": "stream",
          "text": [
            "It looks like you are running Gradio on a hosted a Jupyter notebook. For the Gradio app to work, sharing must be enabled. Automatically setting `share=True` (you can turn this off by setting `share=False` in `launch()` explicitly).\n",
            "\n",
            "Colab notebook detected. To show errors in colab notebook, set debug=True in launch()\n",
            "* Running on public URL: https://6658c24508dc3569ef.gradio.live\n",
            "\n",
            "This share link expires in 1 week. For free permanent hosting and GPU upgrades, run `gradio deploy` from the terminal in the working directory to deploy to Hugging Face Spaces (https://huggingface.co/spaces)\n"
          ]
        },
        {
          "data": {
            "text/html": [
              "<div><iframe src=\"https://6658c24508dc3569ef.gradio.live\" width=\"100%\" height=\"500\" allow=\"autoplay; camera; microphone; clipboard-read; clipboard-write;\" frameborder=\"0\" allowfullscreen></iframe></div>"
            ],
            "text/plain": [
              "<IPython.core.display.HTML object>"
            ]
          },
          "metadata": {},
          "output_type": "display_data"
        },
        {
          "data": {
            "text/plain": []
          },
          "execution_count": 17,
          "metadata": {},
          "output_type": "execute_result"
        }
      ],
      "source": [
        "\n",
        "# ✅ Initialize the RAG system\n",
        "rag = RAGPipeline(vectorstore_path=\"../ModelEmbeding\")\n",
        "\n",
        "# ✅ Chat function with history\n",
        "def chat(query, history):\n",
        "    if not query.strip():\n",
        "        return gr.update(value=\"\"), history, \"\", \"\", \"\"\n",
        "\n",
        "    answer, sources = rag.generate_answer(query)\n",
        "    history.append((query, answer))\n",
        "\n",
        "    source_texts = [doc.get(\"text\", \"\")[:500] for doc in sources[:3]]\n",
        "    while len(source_texts) < 3:\n",
        "        source_texts.append(\"\")\n",
        "\n",
        "    return gr.update(value=\"\"), history, source_texts[0], source_texts[1], source_texts[2]\n",
        "\n",
        "# ✅ Clear function\n",
        "def clear_all():\n",
        "    return \"\", [], \"\", \"\", \"\"\n",
        "\n",
        "# ✅ Gradio UI\n",
        "with gr.Blocks(title=\"CrediTrust Complaint Assistant\", theme=gr.themes.Soft()) as demo:\n",
        "    gr.Markdown(\n",
        "        \"\"\"\n",
        "        <div style=\"text-align: center; padding: 10px;\">\n",
        "            <h1 style=\"color:#4F46E5;\">💬 CrediTrust Complaint Chatbot</h1>\n",
        "            <p style=\"font-size: 16px;\">Ask questions about consumer financial complaints.<br>\n",
        "            The AI responds using real complaint narratives retrieved from a trusted database.</p>\n",
        "        </div>\n",
        "        \"\"\",\n",
        "        elem_id=\"header\"\n",
        "    )\n",
        "\n",
        "    chatbot = gr.Chatbot(label=\"Conversation History\", height=400)\n",
        "\n",
        "    with gr.Row():\n",
        "        with gr.Column(scale=4):\n",
        "            question_input = gr.Textbox(\n",
        "                label=\"Your Question\",\n",
        "                placeholder=\"e.g., Why are customers unhappy with Buy Now Pay Later?\",\n",
        "                lines=2\n",
        "            )\n",
        "            ask_button = gr.Button(\"Ask\", variant=\"primary\")\n",
        "            clear_button = gr.Button(\"Clear All\", variant=\"secondary\")\n",
        "\n",
        "        with gr.Column(scale=6):\n",
        "            gr.Markdown(\"### 📚 Retrieved Complaint Sources\")\n",
        "            with gr.Accordion(\"Source 1\", open=False):\n",
        "                source1 = gr.Textbox(label=\"\", interactive=False, lines=4)\n",
        "            with gr.Accordion(\"Source 2\", open=False):\n",
        "                source2 = gr.Textbox(label=\"\", interactive=False, lines=4)\n",
        "            with gr.Accordion(\"Source 3\", open=False):\n",
        "                source3 = gr.Textbox(label=\"\", interactive=False, lines=4)\n",
        "\n",
        "    # ✅ State to store chat history\n",
        "    history_state = gr.State([])\n",
        "\n",
        "    # ✅ Connect buttons\n",
        "    ask_button.click(\n",
        "        fn=chat,\n",
        "        inputs=[question_input, history_state],\n",
        "        outputs=[question_input, chatbot, source1, source2, source3]\n",
        "    )\n",
        "\n",
        "    clear_button.click(\n",
        "        fn=clear_all,\n",
        "        inputs=[],\n",
        "        outputs=[question_input, chatbot, source1, source2, source3, history_state]\n",
        "    )\n",
        "\n",
        "# ✅ Launch the app\n",
        "demo.launch()\n"
      ]
    }
  ],
  "metadata": {
    "colab": {
      "provenance": []
    },
    "kernelspec": {
      "display_name": "Python 3",
      "name": "python3"
    },
    "language_info": {
      "name": "python"
    }
  },
  "nbformat": 4,
  "nbformat_minor": 0
}
