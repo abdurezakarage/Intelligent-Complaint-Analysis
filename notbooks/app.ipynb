{
  "cells": [
    {
      "cell_type": "code",
      "execution_count": 1,
      "metadata": {},
      "outputs": [],
      "source": [
        "import os\n",
        "import sys\n",
        "notebook_dir = os.getcwd()\n",
        "parent_dir = os.path.dirname(notebook_dir)\n",
        "sys.path.append(parent_dir)"
      ]
    },
    {
      "cell_type": "code",
      "execution_count": null,
      "metadata": {},
      "outputs": [],
      "source": [
        "from src.rag_pipeline import RAGPipeline "
      ]
    },
    {
      "cell_type": "code",
      "execution_count": null,
      "metadata": {
        "colab": {
          "base_uri": "https://localhost:8080/",
          "height": 701,
          "referenced_widgets": [
            "f2b8c4101fd74fc9801b04c6abbb3807",
            "9622464afe744b2db05de00287a47741",
            "10df6621989640508c3ccef0ccb0d09d",
            "596d07bbb8fd45ed82c319ab0a1f8a2b",
            "4b47d1ded65b4fde966af4418a8f44fc",
            "645259d1463e446184be614790ac0b7c",
            "17a0a94c5db8414585a7cd8310e8183e",
            "ab4b6603beb7404fb4af2f58f5dc289a",
            "014ba6841fdf4716a893bfc8803d8f06",
            "d68aae9206b24c18be332de4862a7ebc",
            "703c9b2ee2b54229b6e6905dc2eaafd8"
          ]
        },
        "id": "FUyl9mUSN10Q",
        "outputId": "1998a273-8b95-4325-e191-ff48c6ea2844"
      },
      "outputs": [
        {
          "data": {
            "application/vnd.jupyter.widget-view+json": {
              "model_id": "f2b8c4101fd74fc9801b04c6abbb3807",
              "version_major": 2,
              "version_minor": 0
            },
            "text/plain": [
              "Loading checkpoint shards:   0%|          | 0/2 [00:00<?, ?it/s]"
            ]
          },
          "metadata": {},
          "output_type": "display_data"
        },
        {
          "name": "stderr",
          "output_type": "stream",
          "text": [
            "Device set to use cpu\n"
          ]
        },
        {
          "name": "stdout",
          "output_type": "stream",
          "text": [
            "It looks like you are running Gradio on a hosted Jupyter notebook, which requires `share=True`. Automatically setting `share=True` (you can turn this off by setting `share=False` in `launch()` explicitly).\n",
            "\n",
            "Colab notebook detected. To show errors in colab notebook, set debug=True in launch()\n",
            "* Running on public URL: https://055a6ca58d62c34ef9.gradio.live\n",
            "\n",
            "This share link expires in 1 week. For free permanent hosting and GPU upgrades, run `gradio deploy` from the terminal in the working directory to deploy to Hugging Face Spaces (https://huggingface.co/spaces)\n"
          ]
        },
        {
          "data": {
            "text/html": [
              "<div><iframe src=\"https://055a6ca58d62c34ef9.gradio.live\" width=\"100%\" height=\"500\" allow=\"autoplay; camera; microphone; clipboard-read; clipboard-write;\" frameborder=\"0\" allowfullscreen></iframe></div>"
            ],
            "text/plain": [
              "<IPython.core.display.HTML object>"
            ]
          },
          "metadata": {},
          "output_type": "display_data"
        },
        {
          "data": {
            "text/plain": []
          },
          "execution_count": 25,
          "metadata": {},
          "output_type": "execute_result"
        }
      ],
      "source": [
        "\n",
        "# ✅ Initialize the RAG system\n",
        "rag = RAGPipeline(vectorstore_path=\"/content/drive/MyDrive/ModelEmbeding\")\n",
        "\n",
        "# ✅ Chat function that returns the answer and source chunks\n",
        "def chat(query):\n",
        "    if not query.strip():\n",
        "        return \"\", [\"\", \"\", \"\"]\n",
        "\n",
        "    answer, sources = rag.generate_answer(query)\n",
        "    source_texts = [doc.page_content[:500] for doc in sources[:3]]  # Limit to 500 chars, top 3 sources\n",
        "    while len(source_texts) < 3:\n",
        "        source_texts.append(\"\")  # Pad with empty strings if < 3 sources\n",
        "\n",
        "    return answer, source_texts[0], source_texts[1], source_texts[2]\n",
        "\n",
        "# ✅ Gradio UI\n",
        "with gr.Blocks(title=\"CrediTrust Complaint Assistant\", theme=gr.themes.Base(primary_hue=\"indigo\")) as demo:\n",
        "    with gr.Column(scale=1):\n",
        "        gr.Markdown(\n",
        "            \"\"\"\n",
        "            <div style=\"text-align: center; padding: 20px;\">\n",
        "                <h1 style=\"color:#4F46E5;\">💬 CrediTrust Complaint Chatbot</h1>\n",
        "                <p style=\"font-size: 16px;\">Ask questions about consumer financial complaints.<br>\n",
        "                The AI responds using real complaint narratives retrieved from a trusted vector database.</p>\n",
        "            </div>\n",
        "            \"\"\"\n",
        "        )\n",
        "\n",
        "        with gr.Row():\n",
        "            with gr.Column(scale=4):\n",
        "                question_input = gr.Textbox(\n",
        "                    label=\"Your Question\",\n",
        "                    placeholder=\"e.g., Why are customers unhappy with Buy Now Pay Later?\",\n",
        "                    lines=2\n",
        "                )\n",
        "                ask_button = gr.Button(\"Ask\", variant=\"primary\")\n",
        "\n",
        "            with gr.Column(scale=6):\n",
        "                answer_output = gr.Textbox(\n",
        "                    label=\"Generated Answer\",\n",
        "                    lines=6,\n",
        "                    interactive=False,\n",
        "                    show_copy_button=True\n",
        "                )\n",
        "\n",
        "        gr.Markdown(\"### 📚 Retrieved Complaint Sources\")\n",
        "\n",
        "        # ✅ Create 3 collapsible boxes for source texts\n",
        "        with gr.Accordion(\"Source 1\", open=False):\n",
        "            source1 = gr.Textbox(label=\"\", interactive=False, lines=5)\n",
        "\n",
        "        with gr.Accordion(\"Source 2\", open=False):\n",
        "            source2 = gr.Textbox(label=\"\", interactive=False, lines=5)\n",
        "\n",
        "        with gr.Accordion(\"Source 3\", open=False):\n",
        "            source3 = gr.Textbox(label=\"\", interactive=False, lines=5)\n",
        "\n",
        "        clear_button = gr.Button(\"Clear\", variant=\"secondary\")\n",
        "\n",
        "    # ✅ Connect the buttons to functions\n",
        "    ask_button.click(\n",
        "        fn=chat,\n",
        "        inputs=question_input,\n",
        "        outputs=[answer_output, source1, source2, source3]\n",
        "    )\n",
        "\n",
        "    clear_button.click(\n",
        "        fn=lambda: (\"\", \"\", \"\", \"\", \"\"),\n",
        "        inputs=[],\n",
        "        outputs=[answer_output, source1, source2, source3]\n",
        "    )\n",
        "\n",
        "# ✅ Launch the app\n",
        "demo.launch()\n"
      ]
    }
  ],
  "metadata": {
    "colab": {
      "provenance": []
    },
    "kernelspec": {
      "display_name": "Python 3",
      "name": "python3"
    },
    "language_info": {
      "codemirror_mode": {
        "name": "ipython",
        "version": 3
      },
      "file_extension": ".py",
      "mimetype": "text/x-python",
      "name": "python",
      "nbconvert_exporter": "python",
      "pygments_lexer": "ipython3",
      "version": "3.13.3"
    },
    "widgets": {
      "application/vnd.jupyter.widget-state+json": {
        "014ba6841fdf4716a893bfc8803d8f06": {
          "model_module": "@jupyter-widgets/controls",
          "model_module_version": "1.5.0",
          "model_name": "ProgressStyleModel",
          "state": {
            "_model_module": "@jupyter-widgets/controls",
            "_model_module_version": "1.5.0",
            "_model_name": "ProgressStyleModel",
            "_view_count": null,
            "_view_module": "@jupyter-widgets/base",
            "_view_module_version": "1.2.0",
            "_view_name": "StyleView",
            "bar_color": null,
            "description_width": ""
          }
        },
        "10df6621989640508c3ccef0ccb0d09d": {
          "model_module": "@jupyter-widgets/controls",
          "model_module_version": "1.5.0",
          "model_name": "FloatProgressModel",
          "state": {
            "_dom_classes": [],
            "_model_module": "@jupyter-widgets/controls",
            "_model_module_version": "1.5.0",
            "_model_name": "FloatProgressModel",
            "_view_count": null,
            "_view_module": "@jupyter-widgets/controls",
            "_view_module_version": "1.5.0",
            "_view_name": "ProgressView",
            "bar_style": "success",
            "description": "",
            "description_tooltip": null,
            "layout": "IPY_MODEL_ab4b6603beb7404fb4af2f58f5dc289a",
            "max": 2,
            "min": 0,
            "orientation": "horizontal",
            "style": "IPY_MODEL_014ba6841fdf4716a893bfc8803d8f06",
            "value": 2
          }
        },
        "17a0a94c5db8414585a7cd8310e8183e": {
          "model_module": "@jupyter-widgets/controls",
          "model_module_version": "1.5.0",
          "model_name": "DescriptionStyleModel",
          "state": {
            "_model_module": "@jupyter-widgets/controls",
            "_model_module_version": "1.5.0",
            "_model_name": "DescriptionStyleModel",
            "_view_count": null,
            "_view_module": "@jupyter-widgets/base",
            "_view_module_version": "1.2.0",
            "_view_name": "StyleView",
            "description_width": ""
          }
        },
        "4b47d1ded65b4fde966af4418a8f44fc": {
          "model_module": "@jupyter-widgets/base",
          "model_module_version": "1.2.0",
          "model_name": "LayoutModel",
          "state": {
            "_model_module": "@jupyter-widgets/base",
            "_model_module_version": "1.2.0",
            "_model_name": "LayoutModel",
            "_view_count": null,
            "_view_module": "@jupyter-widgets/base",
            "_view_module_version": "1.2.0",
            "_view_name": "LayoutView",
            "align_content": null,
            "align_items": null,
            "align_self": null,
            "border": null,
            "bottom": null,
            "display": null,
            "flex": null,
            "flex_flow": null,
            "grid_area": null,
            "grid_auto_columns": null,
            "grid_auto_flow": null,
            "grid_auto_rows": null,
            "grid_column": null,
            "grid_gap": null,
            "grid_row": null,
            "grid_template_areas": null,
            "grid_template_columns": null,
            "grid_template_rows": null,
            "height": null,
            "justify_content": null,
            "justify_items": null,
            "left": null,
            "margin": null,
            "max_height": null,
            "max_width": null,
            "min_height": null,
            "min_width": null,
            "object_fit": null,
            "object_position": null,
            "order": null,
            "overflow": null,
            "overflow_x": null,
            "overflow_y": null,
            "padding": null,
            "right": null,
            "top": null,
            "visibility": null,
            "width": null
          }
        },
        "596d07bbb8fd45ed82c319ab0a1f8a2b": {
          "model_module": "@jupyter-widgets/controls",
          "model_module_version": "1.5.0",
          "model_name": "HTMLModel",
          "state": {
            "_dom_classes": [],
            "_model_module": "@jupyter-widgets/controls",
            "_model_module_version": "1.5.0",
            "_model_name": "HTMLModel",
            "_view_count": null,
            "_view_module": "@jupyter-widgets/controls",
            "_view_module_version": "1.5.0",
            "_view_name": "HTMLView",
            "description": "",
            "description_tooltip": null,
            "layout": "IPY_MODEL_d68aae9206b24c18be332de4862a7ebc",
            "placeholder": "​",
            "style": "IPY_MODEL_703c9b2ee2b54229b6e6905dc2eaafd8",
            "value": " 2/2 [00:00&lt;00:00,  3.27it/s]"
          }
        },
        "645259d1463e446184be614790ac0b7c": {
          "model_module": "@jupyter-widgets/base",
          "model_module_version": "1.2.0",
          "model_name": "LayoutModel",
          "state": {
            "_model_module": "@jupyter-widgets/base",
            "_model_module_version": "1.2.0",
            "_model_name": "LayoutModel",
            "_view_count": null,
            "_view_module": "@jupyter-widgets/base",
            "_view_module_version": "1.2.0",
            "_view_name": "LayoutView",
            "align_content": null,
            "align_items": null,
            "align_self": null,
            "border": null,
            "bottom": null,
            "display": null,
            "flex": null,
            "flex_flow": null,
            "grid_area": null,
            "grid_auto_columns": null,
            "grid_auto_flow": null,
            "grid_auto_rows": null,
            "grid_column": null,
            "grid_gap": null,
            "grid_row": null,
            "grid_template_areas": null,
            "grid_template_columns": null,
            "grid_template_rows": null,
            "height": null,
            "justify_content": null,
            "justify_items": null,
            "left": null,
            "margin": null,
            "max_height": null,
            "max_width": null,
            "min_height": null,
            "min_width": null,
            "object_fit": null,
            "object_position": null,
            "order": null,
            "overflow": null,
            "overflow_x": null,
            "overflow_y": null,
            "padding": null,
            "right": null,
            "top": null,
            "visibility": null,
            "width": null
          }
        },
        "703c9b2ee2b54229b6e6905dc2eaafd8": {
          "model_module": "@jupyter-widgets/controls",
          "model_module_version": "1.5.0",
          "model_name": "DescriptionStyleModel",
          "state": {
            "_model_module": "@jupyter-widgets/controls",
            "_model_module_version": "1.5.0",
            "_model_name": "DescriptionStyleModel",
            "_view_count": null,
            "_view_module": "@jupyter-widgets/base",
            "_view_module_version": "1.2.0",
            "_view_name": "StyleView",
            "description_width": ""
          }
        },
        "9622464afe744b2db05de00287a47741": {
          "model_module": "@jupyter-widgets/controls",
          "model_module_version": "1.5.0",
          "model_name": "HTMLModel",
          "state": {
            "_dom_classes": [],
            "_model_module": "@jupyter-widgets/controls",
            "_model_module_version": "1.5.0",
            "_model_name": "HTMLModel",
            "_view_count": null,
            "_view_module": "@jupyter-widgets/controls",
            "_view_module_version": "1.5.0",
            "_view_name": "HTMLView",
            "description": "",
            "description_tooltip": null,
            "layout": "IPY_MODEL_645259d1463e446184be614790ac0b7c",
            "placeholder": "​",
            "style": "IPY_MODEL_17a0a94c5db8414585a7cd8310e8183e",
            "value": "Loading checkpoint shards: 100%"
          }
        },
        "ab4b6603beb7404fb4af2f58f5dc289a": {
          "model_module": "@jupyter-widgets/base",
          "model_module_version": "1.2.0",
          "model_name": "LayoutModel",
          "state": {
            "_model_module": "@jupyter-widgets/base",
            "_model_module_version": "1.2.0",
            "_model_name": "LayoutModel",
            "_view_count": null,
            "_view_module": "@jupyter-widgets/base",
            "_view_module_version": "1.2.0",
            "_view_name": "LayoutView",
            "align_content": null,
            "align_items": null,
            "align_self": null,
            "border": null,
            "bottom": null,
            "display": null,
            "flex": null,
            "flex_flow": null,
            "grid_area": null,
            "grid_auto_columns": null,
            "grid_auto_flow": null,
            "grid_auto_rows": null,
            "grid_column": null,
            "grid_gap": null,
            "grid_row": null,
            "grid_template_areas": null,
            "grid_template_columns": null,
            "grid_template_rows": null,
            "height": null,
            "justify_content": null,
            "justify_items": null,
            "left": null,
            "margin": null,
            "max_height": null,
            "max_width": null,
            "min_height": null,
            "min_width": null,
            "object_fit": null,
            "object_position": null,
            "order": null,
            "overflow": null,
            "overflow_x": null,
            "overflow_y": null,
            "padding": null,
            "right": null,
            "top": null,
            "visibility": null,
            "width": null
          }
        },
        "d68aae9206b24c18be332de4862a7ebc": {
          "model_module": "@jupyter-widgets/base",
          "model_module_version": "1.2.0",
          "model_name": "LayoutModel",
          "state": {
            "_model_module": "@jupyter-widgets/base",
            "_model_module_version": "1.2.0",
            "_model_name": "LayoutModel",
            "_view_count": null,
            "_view_module": "@jupyter-widgets/base",
            "_view_module_version": "1.2.0",
            "_view_name": "LayoutView",
            "align_content": null,
            "align_items": null,
            "align_self": null,
            "border": null,
            "bottom": null,
            "display": null,
            "flex": null,
            "flex_flow": null,
            "grid_area": null,
            "grid_auto_columns": null,
            "grid_auto_flow": null,
            "grid_auto_rows": null,
            "grid_column": null,
            "grid_gap": null,
            "grid_row": null,
            "grid_template_areas": null,
            "grid_template_columns": null,
            "grid_template_rows": null,
            "height": null,
            "justify_content": null,
            "justify_items": null,
            "left": null,
            "margin": null,
            "max_height": null,
            "max_width": null,
            "min_height": null,
            "min_width": null,
            "object_fit": null,
            "object_position": null,
            "order": null,
            "overflow": null,
            "overflow_x": null,
            "overflow_y": null,
            "padding": null,
            "right": null,
            "top": null,
            "visibility": null,
            "width": null
          }
        },
        "f2b8c4101fd74fc9801b04c6abbb3807": {
          "model_module": "@jupyter-widgets/controls",
          "model_module_version": "1.5.0",
          "model_name": "HBoxModel",
          "state": {
            "_dom_classes": [],
            "_model_module": "@jupyter-widgets/controls",
            "_model_module_version": "1.5.0",
            "_model_name": "HBoxModel",
            "_view_count": null,
            "_view_module": "@jupyter-widgets/controls",
            "_view_module_version": "1.5.0",
            "_view_name": "HBoxView",
            "box_style": "",
            "children": [
              "IPY_MODEL_9622464afe744b2db05de00287a47741",
              "IPY_MODEL_10df6621989640508c3ccef0ccb0d09d",
              "IPY_MODEL_596d07bbb8fd45ed82c319ab0a1f8a2b"
            ],
            "layout": "IPY_MODEL_4b47d1ded65b4fde966af4418a8f44fc"
          }
        }
      }
    }
  },
  "nbformat": 4,
  "nbformat_minor": 0
}
