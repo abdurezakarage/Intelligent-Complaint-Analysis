{
 "cells": [
  {
   "cell_type": "code",
   "execution_count": 2,
   "id": "0f564bd5",
   "metadata": {},
   "outputs": [],
   "source": [
    "import os\n",
    "import sys\n",
    "# Add parent directory to path for notebook compatibility\n",
    "notebook_dir = os.getcwd()\n",
    "parent_dir = os.path.dirname(notebook_dir)\n",
    "sys.path.append(parent_dir)"
   ]
  },
  {
   "cell_type": "code",
   "execution_count": 3,
   "id": "1208f722",
   "metadata": {},
   "outputs": [],
   "source": [
    "from src.embed_index import ComplaintChunkEmbedder"
   ]
  },
  {
   "cell_type": "code",
   "execution_count": 4,
   "id": "4e1a0112",
   "metadata": {},
   "outputs": [],
   "source": [
    "complaint_file_path = '../data/filtered_complaints.csv'\n",
    "chroma_dir_path = '../chroma/chroma_db'"
   ]
  },
  {
   "cell_type": "code",
   "execution_count": 5,
   "id": "e7123558",
   "metadata": {},
   "outputs": [],
   "source": [
    "embedder = ComplaintChunkEmbedder(\n",
    "    data_path=complaint_file_path,\n",
    "    persist_directory=chroma_dir_path,\n",
    "    sample_size=1000 \n",
    ")"
   ]
  },
  {
   "cell_type": "code",
   "execution_count": 6,
   "id": "b1f24097",
   "metadata": {},
   "outputs": [
    {
     "name": "stdout",
     "output_type": "stream",
     "text": [
      "📥 Loading data from ../data/filtered_complaints.csv...\n",
      "🔍 Sampled 1000 records.\n"
     ]
    }
   ],
   "source": [
    "embedder.load_data()"
   ]
  },
  {
   "cell_type": "code",
   "execution_count": 7,
   "id": "6738fe9e",
   "metadata": {},
   "outputs": [
    {
     "name": "stdout",
     "output_type": "stream",
     "text": [
      "✂️  Splitting narratives into chunks...\n"
     ]
    },
    {
     "name": "stderr",
     "output_type": "stream",
     "text": [
      "Chunking: 100%|██████████| 1000/1000 [00:00<00:00, 1389.70it/s]"
     ]
    },
    {
     "name": "stdout",
     "output_type": "stream",
     "text": [
      "📄 Generated 4623 document chunks.\n"
     ]
    },
    {
     "name": "stderr",
     "output_type": "stream",
     "text": [
      "\n"
     ]
    }
   ],
   "source": [
    "embedder.chunk_documents()"
   ]
  },
  {
   "cell_type": "code",
   "execution_count": 8,
   "id": "2f704303",
   "metadata": {},
   "outputs": [
    {
     "name": "stdout",
     "output_type": "stream",
     "text": [
      "⚙️ Loading embedding model: intfloat/e5-small-v2\n"
     ]
    },
    {
     "name": "stderr",
     "output_type": "stream",
     "text": [
      "e:\\AI\\Week-6\\Week-6 Project\\Intelligent-Complaint-Analysis\\src\\embed_index.py:71: LangChainDeprecationWarning: The class `HuggingFaceEmbeddings` was deprecated in LangChain 0.2.2 and will be removed in 1.0. An updated version of the class exists in the :class:`~langchain-huggingface package and should be used instead. To use it run `pip install -U :class:`~langchain-huggingface` and import as `from :class:`~langchain_huggingface import HuggingFaceEmbeddings``.\n",
      "  self.embedding_model = HuggingFaceEmbeddings(\n",
      "c:\\Users\\op\\AppData\\Local\\Programs\\Python\\Python313\\Lib\\site-packages\\tqdm\\auto.py:21: TqdmWarning: IProgress not found. Please update jupyter and ipywidgets. See https://ipywidgets.readthedocs.io/en/stable/user_install.html\n",
      "  from .autonotebook import tqdm as notebook_tqdm\n",
      "c:\\Users\\op\\AppData\\Local\\Programs\\Python\\Python313\\Lib\\site-packages\\huggingface_hub\\file_download.py:143: UserWarning: `huggingface_hub` cache-system uses symlinks by default to efficiently store duplicated files but your machine does not support them in C:\\Users\\op\\.cache\\huggingface\\hub\\models--intfloat--e5-small-v2. Caching files will still work but in a degraded version that might require more space on your disk. This warning can be disabled by setting the `HF_HUB_DISABLE_SYMLINKS_WARNING` environment variable. For more details, see https://huggingface.co/docs/huggingface_hub/how-to-cache#limitations.\n",
      "To support symlinks on Windows, you either need to activate Developer Mode or to run Python as an administrator. In order to activate developer mode, see this article: https://docs.microsoft.com/en-us/windows/apps/get-started/enable-your-device-for-development\n",
      "  warnings.warn(message)\n"
     ]
    }
   ],
   "source": [
    "embedder.load_embedding_model()"
   ]
  },
  {
   "cell_type": "code",
   "execution_count": 9,
   "id": "ec7531fa",
   "metadata": {},
   "outputs": [
    {
     "name": "stdout",
     "output_type": "stream",
     "text": [
      "🧠 Creating vector store with Chroma...\n",
      "✅ Vector store saved to ../chroma/chroma_db\n"
     ]
    },
    {
     "name": "stderr",
     "output_type": "stream",
     "text": [
      "e:\\AI\\Week-6\\Week-6 Project\\Intelligent-Complaint-Analysis\\src\\embed_index.py:84: LangChainDeprecationWarning: Since Chroma 0.4.x the manual persistence method is no longer supported as docs are automatically persisted.\n",
      "  self.vector_store.persist()\n"
     ]
    }
   ],
   "source": [
    "embedder.create_and_save_vectorstore()"
   ]
  }
 ],
 "metadata": {
  "kernelspec": {
   "display_name": "Python 3",
   "language": "python",
   "name": "python3"
  },
  "language_info": {
   "codemirror_mode": {
    "name": "ipython",
    "version": 3
   },
   "file_extension": ".py",
   "mimetype": "text/x-python",
   "name": "python",
   "nbconvert_exporter": "python",
   "pygments_lexer": "ipython3",
   "version": "3.13.3"
  }
 },
 "nbformat": 4,
 "nbformat_minor": 5
}
